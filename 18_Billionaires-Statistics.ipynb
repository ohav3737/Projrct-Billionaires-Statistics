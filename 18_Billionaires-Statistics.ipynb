{
 "cells": [
  {
   "cell_type": "markdown",
   "id": "4922ae89-33dd-410d-ae80-535803b0826f",
   "metadata": {},
   "source": [
    "<span style=\"font-size: 50px; color: #008000; font-weight: bold;\"> The World's Billionaires</span>\n"
   ]
  },
  {
   "cell_type": "markdown",
   "id": "b82b6da9-7626-4cfa-9293-ed7ec30f9db3",
   "metadata": {},
   "source": [
    "<span style=\"font-size: 15px; color: #FF69B4; font-weight: bold;\"> Group Number 18</span>"
   ]
  },
  {
   "cell_type": "markdown",
   "id": "e93404f8-9533-4f3f-bba7-288a868489f0",
   "metadata": {},
   "source": [
    "<span style=\"font-size: 13px; color: #FF1493; font-weight: bold;\"> Group Members: Ohav Zach, Hadar.... </span>"
   ]
  },
  {
   "cell_type": "markdown",
   "id": "6da92f9f-95f1-4d1a-9189-37c13c9197fa",
   "metadata": {},
   "source": [
    "https://www.kaggle.com/datasets/endofnight17j03/billionaires-statistics-dataset"
   ]
  },
  {
   "cell_type": "markdown",
   "id": "48db91f3-65bc-4aec-885e-c0419192590d",
   "metadata": {
    "tags": []
   },
   "source": [
    "<!DOCTYPE html>\n",
    "<html>\n",
    "<head>\n",
    "    <style>\n",
    "        @keyframes sparkly {\n",
    "            0% { color: gold; }\n",
    "            25% { color: #ffd700; }\n",
    "            50% { color: gold; }\n",
    "            75% { color: #ffd700; }\n",
    "            100% { color: gold; }\n",
    "        }\n",
    "\n",
    "        .sparkly-text {\n",
    "            font-size: 36px;\n",
    "            font-weight: bold;\n",
    "            animation: sparkly 2s infinite;\n",
    "        }\n",
    "    </style>\n",
    "</head>\n",
    "<body>\n",
    "    <span class=\"sparkly-text\">World's Most Billionaires</span>\n",
    "</body>\n",
    "</html>\n",
    "\n"
   ]
  },
  {
   "cell_type": "markdown",
   "id": "75c8539d-7b83-4135-b8d2-995d82e86790",
   "metadata": {
    "tags": []
   },
   "source": [
    "\n",
    "<img src=\"https://github.com/ohav3737/Projrct-Billionaires-Statistics/blob/main/ca_billionaires_money_istock1.jpg?raw=true\" width=\"800\"/>\n"
   ]
  },
  {
   "cell_type": "markdown",
   "id": "4d5c10cf-ba5d-4943-b2a8-2773b3d2cbc8",
   "metadata": {},
   "source": [
    "<!DOCTYPE html>\n",
    "<html>\n",
    "<head>\n",
    "    <style>\n",
    "        @keyframes sparkly {\n",
    "            0% { color: gold; }\n",
    "            25% { color: #ffd700; }\n",
    "            50% { color: gold; }\n",
    "            75% { color: #ffd700; }\n",
    "            100% { color: gold; }\n",
    "        }\n",
    "\n",
    "        .sparkly-text {\n",
    "            font-size: 36px;\n",
    "            font-weight: bold;\n",
    "            animation: sparkly 2s infinite;\n",
    "        }\n",
    "    </style>\n",
    "</head>\n",
    "<body>\n",
    "    <span class=\"sparkly-text\">World's Most Billionaires</span>\n",
    "</body>\n",
    "</html>\n"
   ]
  },
  {
   "cell_type": "markdown",
   "id": "0139c60b-0297-4f88-b920-6bdab23000bb",
   "metadata": {
    "tags": []
   },
   "source": [
    "<span style=\"font-size: 20px; color:  #008000; font-weight: bold;\"> \n",
    "Introduction:</span>"
   ]
  },
  {
   "cell_type": "markdown",
   "id": "716281de-2f25-4bc0-bfef-3c69e47de04d",
   "metadata": {},
   "source": [
    "The world's most billionaires list highlights the unmatched wealth accumulated by individuals worldwide, providing insight into their varied paths to success and the changing landscape of wealth generation across different sectors."
   ]
  },
  {
   "cell_type": "code",
   "execution_count": 1,
   "id": "15875c74-4b4d-46a9-8222-b5e10707d68f",
   "metadata": {
    "tags": []
   },
   "outputs": [],
   "source": [
    "import pandas as pd \n",
    "import seaborn as sns\n",
    "import numpy as np\n",
    "import matplotlib.pyplot as plt\n",
    "bill_df = pd.read_csv('Billionaires-Statistics.csv')\n"
   ]
  },
  {
   "cell_type": "code",
   "execution_count": 2,
   "id": "23c23e30-f220-490c-912a-de178ec1993e",
   "metadata": {
    "tags": []
   },
   "outputs": [
    {
     "data": {
      "text/html": [
       "<div>\n",
       "<style scoped>\n",
       "    .dataframe tbody tr th:only-of-type {\n",
       "        vertical-align: middle;\n",
       "    }\n",
       "\n",
       "    .dataframe tbody tr th {\n",
       "        vertical-align: top;\n",
       "    }\n",
       "\n",
       "    .dataframe thead th {\n",
       "        text-align: right;\n",
       "    }\n",
       "</style>\n",
       "<table border=\"1\" class=\"dataframe\">\n",
       "  <thead>\n",
       "    <tr style=\"text-align: right;\">\n",
       "      <th></th>\n",
       "      <th>rank</th>\n",
       "      <th>finalWorth</th>\n",
       "      <th>category</th>\n",
       "      <th>personName</th>\n",
       "      <th>age</th>\n",
       "      <th>country</th>\n",
       "      <th>city</th>\n",
       "      <th>source</th>\n",
       "      <th>industries</th>\n",
       "      <th>countryOfCitizenship</th>\n",
       "      <th>...</th>\n",
       "      <th>cpi_change_country</th>\n",
       "      <th>gdp_country</th>\n",
       "      <th>gross_tertiary_education_enrollment</th>\n",
       "      <th>gross_primary_education_enrollment_country</th>\n",
       "      <th>life_expectancy_country</th>\n",
       "      <th>tax_revenue_country_country</th>\n",
       "      <th>total_tax_rate_country</th>\n",
       "      <th>population_country</th>\n",
       "      <th>latitude_country</th>\n",
       "      <th>longitude_country</th>\n",
       "    </tr>\n",
       "  </thead>\n",
       "  <tbody>\n",
       "    <tr>\n",
       "      <th>0</th>\n",
       "      <td>1</td>\n",
       "      <td>211000</td>\n",
       "      <td>Fashion &amp; Retail</td>\n",
       "      <td>Bernard Arnault &amp; family</td>\n",
       "      <td>74.0</td>\n",
       "      <td>France</td>\n",
       "      <td>Paris</td>\n",
       "      <td>LVMH</td>\n",
       "      <td>Fashion &amp; Retail</td>\n",
       "      <td>France</td>\n",
       "      <td>...</td>\n",
       "      <td>1.1</td>\n",
       "      <td>$2,715,518,274,227</td>\n",
       "      <td>65.6</td>\n",
       "      <td>102.5</td>\n",
       "      <td>82.5</td>\n",
       "      <td>24.2</td>\n",
       "      <td>60.7</td>\n",
       "      <td>67059887.0</td>\n",
       "      <td>46.227638</td>\n",
       "      <td>2.213749</td>\n",
       "    </tr>\n",
       "    <tr>\n",
       "      <th>1</th>\n",
       "      <td>2</td>\n",
       "      <td>180000</td>\n",
       "      <td>Automotive</td>\n",
       "      <td>Elon Musk</td>\n",
       "      <td>51.0</td>\n",
       "      <td>United States</td>\n",
       "      <td>Austin</td>\n",
       "      <td>Tesla, SpaceX</td>\n",
       "      <td>Automotive</td>\n",
       "      <td>United States</td>\n",
       "      <td>...</td>\n",
       "      <td>7.5</td>\n",
       "      <td>$21,427,700,000,000</td>\n",
       "      <td>88.2</td>\n",
       "      <td>101.8</td>\n",
       "      <td>78.5</td>\n",
       "      <td>9.6</td>\n",
       "      <td>36.6</td>\n",
       "      <td>328239523.0</td>\n",
       "      <td>37.090240</td>\n",
       "      <td>-95.712891</td>\n",
       "    </tr>\n",
       "    <tr>\n",
       "      <th>2</th>\n",
       "      <td>3</td>\n",
       "      <td>114000</td>\n",
       "      <td>Technology</td>\n",
       "      <td>Jeff Bezos</td>\n",
       "      <td>59.0</td>\n",
       "      <td>United States</td>\n",
       "      <td>Medina</td>\n",
       "      <td>Amazon</td>\n",
       "      <td>Technology</td>\n",
       "      <td>United States</td>\n",
       "      <td>...</td>\n",
       "      <td>7.5</td>\n",
       "      <td>$21,427,700,000,000</td>\n",
       "      <td>88.2</td>\n",
       "      <td>101.8</td>\n",
       "      <td>78.5</td>\n",
       "      <td>9.6</td>\n",
       "      <td>36.6</td>\n",
       "      <td>328239523.0</td>\n",
       "      <td>37.090240</td>\n",
       "      <td>-95.712891</td>\n",
       "    </tr>\n",
       "    <tr>\n",
       "      <th>3</th>\n",
       "      <td>4</td>\n",
       "      <td>107000</td>\n",
       "      <td>Technology</td>\n",
       "      <td>Larry Ellison</td>\n",
       "      <td>78.0</td>\n",
       "      <td>United States</td>\n",
       "      <td>Lanai</td>\n",
       "      <td>Oracle</td>\n",
       "      <td>Technology</td>\n",
       "      <td>United States</td>\n",
       "      <td>...</td>\n",
       "      <td>7.5</td>\n",
       "      <td>$21,427,700,000,000</td>\n",
       "      <td>88.2</td>\n",
       "      <td>101.8</td>\n",
       "      <td>78.5</td>\n",
       "      <td>9.6</td>\n",
       "      <td>36.6</td>\n",
       "      <td>328239523.0</td>\n",
       "      <td>37.090240</td>\n",
       "      <td>-95.712891</td>\n",
       "    </tr>\n",
       "    <tr>\n",
       "      <th>4</th>\n",
       "      <td>5</td>\n",
       "      <td>106000</td>\n",
       "      <td>Finance &amp; Investments</td>\n",
       "      <td>Warren Buffett</td>\n",
       "      <td>92.0</td>\n",
       "      <td>United States</td>\n",
       "      <td>Omaha</td>\n",
       "      <td>Berkshire Hathaway</td>\n",
       "      <td>Finance &amp; Investments</td>\n",
       "      <td>United States</td>\n",
       "      <td>...</td>\n",
       "      <td>7.5</td>\n",
       "      <td>$21,427,700,000,000</td>\n",
       "      <td>88.2</td>\n",
       "      <td>101.8</td>\n",
       "      <td>78.5</td>\n",
       "      <td>9.6</td>\n",
       "      <td>36.6</td>\n",
       "      <td>328239523.0</td>\n",
       "      <td>37.090240</td>\n",
       "      <td>-95.712891</td>\n",
       "    </tr>\n",
       "  </tbody>\n",
       "</table>\n",
       "<p>5 rows × 35 columns</p>\n",
       "</div>"
      ],
      "text/plain": [
       "   rank  finalWorth               category                personName   age  \\\n",
       "0     1      211000       Fashion & Retail  Bernard Arnault & family  74.0   \n",
       "1     2      180000             Automotive                 Elon Musk  51.0   \n",
       "2     3      114000             Technology                Jeff Bezos  59.0   \n",
       "3     4      107000             Technology             Larry Ellison  78.0   \n",
       "4     5      106000  Finance & Investments            Warren Buffett  92.0   \n",
       "\n",
       "         country    city              source             industries  \\\n",
       "0         France   Paris                LVMH       Fashion & Retail   \n",
       "1  United States  Austin       Tesla, SpaceX             Automotive   \n",
       "2  United States  Medina              Amazon             Technology   \n",
       "3  United States   Lanai              Oracle             Technology   \n",
       "4  United States   Omaha  Berkshire Hathaway  Finance & Investments   \n",
       "\n",
       "  countryOfCitizenship  ... cpi_change_country           gdp_country  \\\n",
       "0               France  ...                1.1   $2,715,518,274,227    \n",
       "1        United States  ...                7.5  $21,427,700,000,000    \n",
       "2        United States  ...                7.5  $21,427,700,000,000    \n",
       "3        United States  ...                7.5  $21,427,700,000,000    \n",
       "4        United States  ...                7.5  $21,427,700,000,000    \n",
       "\n",
       "  gross_tertiary_education_enrollment  \\\n",
       "0                                65.6   \n",
       "1                                88.2   \n",
       "2                                88.2   \n",
       "3                                88.2   \n",
       "4                                88.2   \n",
       "\n",
       "  gross_primary_education_enrollment_country life_expectancy_country  \\\n",
       "0                                      102.5                    82.5   \n",
       "1                                      101.8                    78.5   \n",
       "2                                      101.8                    78.5   \n",
       "3                                      101.8                    78.5   \n",
       "4                                      101.8                    78.5   \n",
       "\n",
       "  tax_revenue_country_country total_tax_rate_country population_country  \\\n",
       "0                        24.2                   60.7         67059887.0   \n",
       "1                         9.6                   36.6        328239523.0   \n",
       "2                         9.6                   36.6        328239523.0   \n",
       "3                         9.6                   36.6        328239523.0   \n",
       "4                         9.6                   36.6        328239523.0   \n",
       "\n",
       "  latitude_country longitude_country  \n",
       "0        46.227638          2.213749  \n",
       "1        37.090240        -95.712891  \n",
       "2        37.090240        -95.712891  \n",
       "3        37.090240        -95.712891  \n",
       "4        37.090240        -95.712891  \n",
       "\n",
       "[5 rows x 35 columns]"
      ]
     },
     "execution_count": 2,
     "metadata": {},
     "output_type": "execute_result"
    }
   ],
   "source": [
    "bill_df.head(5)"
   ]
  },
  {
   "cell_type": "code",
   "execution_count": 3,
   "id": "d1fdb687-4341-45ff-bdcb-1dc4213e894f",
   "metadata": {
    "tags": []
   },
   "outputs": [
    {
     "data": {
      "text/plain": [
       "(2640, 35)"
      ]
     },
     "execution_count": 3,
     "metadata": {},
     "output_type": "execute_result"
    }
   ],
   "source": [
    "bill_df.shape"
   ]
  },
  {
   "cell_type": "code",
   "execution_count": 4,
   "id": "0528f5b1-a8fc-44d7-8a48-4c25e5312a1f",
   "metadata": {
    "tags": []
   },
   "outputs": [
    {
     "data": {
      "text/plain": [
       "Index(['rank', 'finalWorth', 'category', 'personName', 'age', 'country',\n",
       "       'city', 'source', 'industries', 'countryOfCitizenship', 'organization',\n",
       "       'selfMade', 'status', 'gender', 'birthDate', 'lastName', 'firstName',\n",
       "       'title', 'date', 'state', 'residenceStateRegion', 'birthYear',\n",
       "       'birthMonth', 'birthDay', 'cpi_country', 'cpi_change_country',\n",
       "       'gdp_country', 'gross_tertiary_education_enrollment',\n",
       "       'gross_primary_education_enrollment_country', 'life_expectancy_country',\n",
       "       'tax_revenue_country_country', 'total_tax_rate_country',\n",
       "       'population_country', 'latitude_country', 'longitude_country'],\n",
       "      dtype='object')"
      ]
     },
     "execution_count": 4,
     "metadata": {},
     "output_type": "execute_result"
    }
   ],
   "source": [
    "bill_df.columns"
   ]
  },
  {
   "cell_type": "code",
   "execution_count": 5,
   "id": "66d79d3f-fc3a-473a-ae25-892f39ffbda5",
   "metadata": {
    "tags": []
   },
   "outputs": [
    {
     "data": {
      "text/plain": [
       "rank                                             0\n",
       "finalWorth                                       0\n",
       "category                                         0\n",
       "personName                                       0\n",
       "age                                             65\n",
       "country                                         38\n",
       "city                                            72\n",
       "source                                           0\n",
       "industries                                       0\n",
       "countryOfCitizenship                             0\n",
       "organization                                  2315\n",
       "selfMade                                         0\n",
       "status                                           0\n",
       "gender                                           0\n",
       "birthDate                                       76\n",
       "lastName                                         0\n",
       "firstName                                        3\n",
       "title                                         2301\n",
       "date                                             0\n",
       "state                                         1887\n",
       "residenceStateRegion                          1893\n",
       "birthYear                                       76\n",
       "birthMonth                                      76\n",
       "birthDay                                        76\n",
       "cpi_country                                    184\n",
       "cpi_change_country                             184\n",
       "gdp_country                                    164\n",
       "gross_tertiary_education_enrollment            182\n",
       "gross_primary_education_enrollment_country     181\n",
       "life_expectancy_country                        182\n",
       "tax_revenue_country_country                    183\n",
       "total_tax_rate_country                         182\n",
       "population_country                             164\n",
       "latitude_country                               164\n",
       "longitude_country                              164\n",
       "dtype: int64"
      ]
     },
     "execution_count": 5,
     "metadata": {},
     "output_type": "execute_result"
    }
   ],
   "source": [
    "bill_df.isnull().sum()"
   ]
  },
  {
   "cell_type": "code",
   "execution_count": null,
   "id": "67994f24-ead6-4a77-bd69-195bcdf8e950",
   "metadata": {},
   "outputs": [],
   "source": []
  }
 ],
 "metadata": {
  "kernelspec": {
   "display_name": "Python 3 (ipykernel)",
   "language": "python",
   "name": "python3"
  },
  "language_info": {
   "codemirror_mode": {
    "name": "ipython",
    "version": 3
   },
   "file_extension": ".py",
   "mimetype": "text/x-python",
   "name": "python",
   "nbconvert_exporter": "python",
   "pygments_lexer": "ipython3",
   "version": "3.11.5"
  }
 },
 "nbformat": 4,
 "nbformat_minor": 5
}
